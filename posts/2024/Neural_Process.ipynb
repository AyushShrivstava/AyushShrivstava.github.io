{
 "cells": [
  {
   "cell_type": "raw",
   "metadata": {
    "vscode": {
     "languageId": "raw"
    }
   },
   "source": [
    "---\n",
    "title: 'Neural Processes'\n",
    "date: 2024-06-06\n",
    "author: Ayush Shrivastava\n",
    "image: /images/blogs/Neural_Process/NP_1.png\n",
    "author_profile: false\n",
    "layout: splash\n",
    "categories:\n",
    "  - Deep Learning\n",
    "---"
   ]
  },
  {
   "cell_type": "markdown",
   "metadata": {},
   "source": [
    "# Neural Processes\n",
    "\n",
    "This notebook demonstrates the implementation of the Neural Processes. The model is trained to predict the distribution of the target function given a few examples of the function. In this notebook we will attempt to reconstruct an entire image given a few pixels of the image. \n",
    "\n",
    "$$Model(\\{x_c, y_c\\}_{c=1}^n, \\{x_t\\}_{t=1}^m) \\rightarrow \\{y_t\\}_{t=1}^m$$ \n",
    "\n",
    "$\\{x_c, y_c\\}_{c=1}^n$ are the context points where $x_i$ are the input features and $y_i$ are the labels.\n",
    "\n",
    "$\\{x_t\\}_{t=1}^m$ are the target features where we want to predict the label values $y_j$.\n",
    "\n",
    "![Neural Processes Block Diagram](../../images/blogs/Neural_Process/NP_1.png)\n",
    "\n",
    "\n",
    "<!-- ![Neural Processes Diagram](../../images/blogs/Neural_Process/NP_2.png) -->\n",
    "\n",
    "The model is composed of two neural networks: the encoder and the decoder. The encoder takes the context set as the input and encodes them into a fixed-size representation. The decoder takes the representation and the target features and predicts the pixel labels of the given target features."
   ]
  },
  {
   "cell_type": "markdown",
   "metadata": {},
   "source": [
    "# Image Reconstruction using Neural Processes\n",
    "\n",
    "We wish to reconstruct an entire image given a few pixels of the image. The few pixels of the image are the context points and the entire image is the target function.\n",
    "\n",
    "So for our case, the pixel locations $x = (x^1, x^2)$ and the pixel intensity values $y = Img(x^1, x^2)$ or just $I$ denoting intensity for simplicity.\n",
    "\n",
    "$$Model(\\{(x^1_c, x^2_c, I_c)\\}_{c=1}^n, \\{(x^1_t, x^2_t)\\}_{t=1}^m) \\rightarrow \\{I_t\\}_{t=1}^m$$\n",
    "\n",
    "For  model training we will randomly sample a fixed number of pixel locations from the image and use them as context points. The model is trained to predict the pixel intensity value at all the other pixel locations. At the time of prediction, We will provide few pixel locations and the model will predict the pixel intensity values for all the pixel locations in the image.\n",
    "\n",
    "![Elaborate Neural Processes Block Diagram](../../images/blogs/Neural_Process/NP_3.png)"
   ]
  },
  {
   "cell_type": "code",
   "execution_count": 53,
   "metadata": {},
   "outputs": [],
   "source": [
    "import torch\n",
    "import torch.nn as nn\n",
    "import numpy as np\n",
    "import matplotlib.pyplot as plt\n",
    "\n",
    "from torch.utils.data import DataLoader, Dataset\n",
    "\n",
    "from torchvision.datasets import MNIST\n",
    "from torchvision.transforms import ToTensor\n",
    "\n",
    "from torchsummary import summary\n",
    "\n",
    "from tqdm import tqdm"
   ]
  },
  {
   "cell_type": "markdown",
   "metadata": {},
   "source": [
    "## Generating Tasks from the MNIST Dataset"
   ]
  },
  {
   "cell_type": "markdown",
   "metadata": {},
   "source": [
    "### Downloading the MNIST Dataset\n",
    "\n",
    "We will be using the MNIST dataset for this task. The MNIST dataset consists of 28x28 grayscale images of handwritten digits (0-9). We will download the dataset using the `torchvision` library. We will convert the images to tensors and no further preprocessing is being performed on the images."
   ]
  },
  {
   "cell_type": "code",
   "execution_count": 54,
   "metadata": {},
   "outputs": [],
   "source": [
    "# Downlaoding the MNIST dataset\n",
    "train_data = MNIST(root='./data', train=True, download=True, transform=ToTensor())\n",
    "test_data = MNIST(root='./data', train=False, download=True, transform= ToTensor())"
   ]
  },
  {
   "cell_type": "markdown",
   "metadata": {},
   "source": [
    "### Creating Context and Target sets\n",
    "\n",
    "We will sample a random number of pixel coordinates $(x^1, x^2)$ and the pixel intensity values $I$ for these coordinates. These coordinates and pixel intensity values will be used as context points. The Test set will contain all the pixel coordinates and Intensities of the image. The model will predict the pixel intensity values for all the pixel coordinates in the image."
   ]
  },
  {
   "cell_type": "code",
   "execution_count": 63,
   "metadata": {},
   "outputs": [],
   "source": [
    "def get_Context_Target_Sets(images_data, no_context_points,Image_shape):\n",
    "\n",
    "    m,n = Image_shape\n",
    "\n",
    "    # All possible coordinates in the image. Size of MNIST image is 28x28\n",
    "    All_corrdinates = np.array([(i,j) for i in range(m) for j in range(n)])\n",
    "\n",
    "    # Iterate over the dataset and create the context set and target set\n",
    "    task_set = []\n",
    "    for i in tqdm(range(len(images_data))):\n",
    "\n",
    "        # Images in the dataset are of shape (1, 28, 28). We need to remove the channel dimension to get the shape (28, 28)\n",
    "        image, _ = images_data[i]\n",
    "        image = image.squeeze().numpy()     # un-squeeze the image to remove the channel dimension\n",
    "\n",
    "        # Sample random context points indices\n",
    "        context_idx = np.random.choice(range(len(All_corrdinates)), no_context_points, replace=False)\n",
    "\n",
    "        # Get the context points and their corresponding pixel values from the generated context indices\n",
    "        context_points = All_corrdinates[context_idx]\n",
    "        context_pixels = image[context_points[:,0], context_points[:,1]]\n",
    "\n",
    "        # Concatenate the context points and their corresponding pixel values\n",
    "        context_set = np.concatenate([context_points, context_pixels.reshape(-1,1)], axis=-1).astype(np.float32)\n",
    "\n",
    "        # For training the model, we need to predict the pixel values for all the pixels in the image\n",
    "        target_points = All_corrdinates\n",
    "        target_pixels = image[target_points[:,0], target_points[:,1]]\n",
    "\n",
    "        # Concatenate the target points and their corresponding pixel values\n",
    "        target_set = np.concatenate([target_points, target_pixels.reshape(-1,1)], axis=-1).astype(np.float32)\n",
    "\n",
    "        # Append the context set and target set to the train_set\n",
    "        task_set.append((context_set, target_set))\n",
    "\n",
    "    return task_set"
   ]
  },
  {
   "cell_type": "code",
   "execution_count": 64,
   "metadata": {},
   "outputs": [
    {
     "name": "stderr",
     "output_type": "stream",
     "text": [
      "100%|██████████| 60000/60000 [00:04<00:00, 12578.65it/s]\n"
     ]
    },
    {
     "name": "stdout",
     "output_type": "stream",
     "text": [
      "torch.Size([32, 200, 3]) torch.Size([32, 784, 3])\n"
     ]
    }
   ],
   "source": [
    "train_set = get_Context_Target_Sets(images_data=train_data, no_context_points=200, Image_shape=(28,28))\n",
    "train_dataloader = DataLoader(train_set, batch_size=32, shuffle=True)\n",
    "\n",
    "for context_pairs, target_pairs in train_dataloader:\n",
    "    print(context_pairs.shape, target_pairs.shape)\n",
    "    break"
   ]
  },
  {
   "cell_type": "code",
   "execution_count": 71,
   "metadata": {},
   "outputs": [
    {
     "name": "stderr",
     "output_type": "stream",
     "text": [
      "100%|██████████| 10000/10000 [00:00<00:00, 11855.53it/s]"
     ]
    },
    {
     "name": "stdout",
     "output_type": "stream",
     "text": [
      "torch.Size([32, 200, 3]) torch.Size([32, 784, 3])\n"
     ]
    },
    {
     "name": "stderr",
     "output_type": "stream",
     "text": [
      "\n"
     ]
    }
   ],
   "source": [
    "test_set = get_Context_Target_Sets(images_data=test_data, no_context_points=200, Image_shape=(28,28))\n",
    "test_dataloader = DataLoader(test_set, batch_size=32, shuffle=True)\n",
    "\n",
    "for context_pairs, target_pairs in test_dataloader:\n",
    "    print(context_pairs.shape, target_pairs.shape)\n",
    "    break"
   ]
  },
  {
   "cell_type": "markdown",
   "metadata": {},
   "source": [
    "## Intializing the Neural Process Class\n",
    "\n",
    "### Encoder and Decoder Networks\n",
    "Our Model class will contain the Encoder and Decoder networks. The Encoder network will take the context points and encode them into a fixed-size representation. The Decoder network will take the representation and the pixel coordinates and predict the pixel intensity value of the given coordinate.\n",
    "\n",
    "### Training Method\n",
    "Method to train the model. The model is trained to predict the pixel intensity values of the target pixel coordinates given the context points. The loss function is the Mean Squared Error loss between the predicted pixel intensity values and the actual pixel intensity values. \n",
    "\n",
    "### Testing Method\n",
    "Method to test the model. The model is tested on the test set. The model is provided with the context points and the model predicts the pixel intensity values of the target pixel coordinates. The Mean Squared Error loss is calculated between the predicted pixel intensity values and the actual pixel intensity values.\n",
    "\n",
    "\n"
   ]
  },
  {
   "cell_type": "code",
   "execution_count": 67,
   "metadata": {},
   "outputs": [],
   "source": [
    "class Neural_Procss_Model(nn.Module):\n",
    "    \"\"\"\n",
    "    Neural Process Model has two parts: encoder and decoder\n",
    "\n",
    "    Encoder takes in the context pairs (X1_c, X2_c, PixelIntensity) and encode them into a latent representation\n",
    "\n",
    "    Decoder takes in the latent representation and the target pairs (X1_t, X2_t) and output the predicted target pairs\n",
    "    \"\"\"\n",
    "    def __init__(self,device):\n",
    "        super(Neural_Procss_Model, self).__init__()\n",
    "\n",
    "        if device == 'cuda':\n",
    "            if torch.cuda.is_available():\n",
    "                device = torch.device('cuda')\n",
    "        \n",
    "        if device == 'mps':\n",
    "            device = torch.device('mps')\n",
    "\n",
    "        self.device = device\n",
    "\n",
    "        # Encoder takes in the context pairs (X1c,X2c,PixelIntensity) and encode them into a latent representation\n",
    "        self.encoder = nn.Sequential(\n",
    "            nn.Linear(3,64),\n",
    "            nn.ReLU(),\n",
    "            nn.Linear(64,128),\n",
    "            nn.ReLU(),\n",
    "            nn.Linear(128,256),\n",
    "        )\n",
    "\n",
    "        # Decoder takes in the latent representation and the target pairs and output the predicted target pairs\n",
    "        self.decoder = nn.Sequential(\n",
    "            nn.Linear(256+2,128),\n",
    "            nn.ReLU(),\n",
    "            nn.Linear(128,64),\n",
    "            nn.ReLU(),\n",
    "            nn.Linear(64,32),\n",
    "            nn.ReLU(),\n",
    "            nn.Linear(32,1)\n",
    "        )\n",
    "\n",
    "    def forward(self, context_pairs, target_pairs):\n",
    "        \"\"\"\n",
    "        Forward pass of the Neural Process Model. \n",
    "        \n",
    "        It takes in the context cordinate pairs (X1_c, X2_c, PixelIntensity) and target cordinate pairs (X1_t, X2_t, PixelIntensity) and output the predicted target pixel intensity for the target cordinate pairs\n",
    "\n",
    "        Parameters:\n",
    "        context_pairs: torch.Tensor of shape (batch_size, num_context_pairs, 3)\n",
    "        target_pairs: torch.Tensor of shape (batch_size, num_target_pairs, 2)\n",
    "\n",
    "        Returns:\n",
    "        predicted_target_Pixel Intensity: torch.Tensor of shape (batch_size, num_target_pairs, 1)\n",
    "        \"\"\"\n",
    "        \n",
    "        # Encode the context pairs into a latent representation\n",
    "        latent_representation = self.encoder(context_pairs)\n",
    "\n",
    "        # Average the latent representation\n",
    "        latent_representation = torch.mean(latent_representation,dim=1)\n",
    "\n",
    "        # Repeat the latent representation for each target pair\n",
    "        latent_representation = latent_representation.unsqueeze(1).repeat(1,target_pairs.size(1),1)\n",
    "\n",
    "        # Concatenate the latent representation with the target pixel locations\n",
    "        target_pixel_locations = target_pairs[:,:,:2]\n",
    "        target = torch.cat([latent_representation,target_pixel_locations],dim=-1)\n",
    "\n",
    "        # Decode the target pairs to obtain the predicted target pixel intensity\n",
    "        predicted_target_pixel_intensity = self.decoder(target)\n",
    "\n",
    "        return predicted_target_pixel_intensity\n",
    "    \n",
    "\n",
    "    def train(self, train_dataloader, num_epochs=100, optim = torch.optim.Adam, lr=3e-4, criterion = nn.MSELoss(),verbose=True):\n",
    "        \"\"\"\n",
    "        Train the Neural Process Model\n",
    "\n",
    "        Parameters:\n",
    "        train_dataloader: DataLoader object for the training data\n",
    "        num_epochs: int, number of epochs to train the model\n",
    "        optimer: str, optimer to use for training the model\n",
    "        lr: float, learning rate for the optimer\n",
    "        criterion: loss function to use for training the model\n",
    "        \"\"\"\n",
    "\n",
    "        device = self.device\n",
    "\n",
    "        # Move the model to the device\n",
    "        self.to(device)\n",
    "\n",
    "        # Initialize the optimizer\n",
    "        optimizer = optim(self.parameters(), lr=lr)\n",
    "\n",
    "        for epoch in range(num_epochs):\n",
    "            for i, (context_pairs, target_pairs) in enumerate(train_dataloader):\n",
    "                context_pairs = context_pairs.to(device)\n",
    "                target_pairs = target_pairs.to(device)\n",
    "\n",
    "                # Zero the gradients\n",
    "                optimizer.zero_grad()\n",
    "\n",
    "                # Forward pass\n",
    "                predicted_target_pixel_intensity = self(context_pairs, target_pairs)\n",
    "\n",
    "                # Calculate the loss\n",
    "                loss = criterion(predicted_target_pixel_intensity.reshape(-1,1), target_pairs[:,:,2].reshape(-1,1))\n",
    "\n",
    "                # Backward pass\n",
    "                loss.backward()\n",
    "\n",
    "                # Update the weights\n",
    "                optimizer.step()\n",
    "\n",
    "            if verbose:\n",
    "                print(\"Epoch: {}/{} Loss: {:.5f}\".format(epoch+1,num_epochs,loss.item()))\n",
    "\n",
    "\n",
    "\n",
    "    def test(self, test_dataloader, criterion = nn.MSELoss()):\n",
    "        \"\"\"\n",
    "        Test the Neural Process Model\n",
    "\n",
    "        Parameters:\n",
    "        test_dataloader: DataLoader object for the test data\n",
    "        \"\"\"\n",
    "\n",
    "        device = self.device\n",
    "    \n",
    "        # Move the model to the device\n",
    "        self.to(device)\n",
    "\n",
    "        # Initialize the loss\n",
    "        test_loss = 0\n",
    "\n",
    "        with torch.no_grad():\n",
    "            for i, (context_pairs, target_pairs) in enumerate(test_dataloader):\n",
    "                context_pairs = context_pairs.to(device)\n",
    "                target_pairs = target_pairs.to(device)\n",
    "\n",
    "                # Forward pass\n",
    "                predicted_target_pixel_intensity = self(context_pairs, target_pairs)\n",
    "\n",
    "                # Calculate the loss\n",
    "                loss = criterion(predicted_target_pixel_intensity.reshape(-1,1), target_pairs[:,:,2].reshape(-1,1))\n",
    "\n",
    "                test_loss += loss.item()\n",
    "\n",
    "        print(f'Test Loss: {test_loss/len(test_dataloader)}')\n",
    "\n",
    "        "
   ]
  },
  {
   "cell_type": "markdown",
   "metadata": {},
   "source": [
    "### Training the Neural Process model"
   ]
  },
  {
   "cell_type": "code",
   "execution_count": 68,
   "metadata": {},
   "outputs": [
    {
     "name": "stdout",
     "output_type": "stream",
     "text": [
      "Device in use:  mps\n"
     ]
    }
   ],
   "source": [
    "# Set the device. If cuda is available, use cuda. \n",
    "if torch.cuda.is_available():\n",
    "    device = torch.device('cuda')\n",
    "\n",
    "# If mps is available, use mps. \n",
    "elif torch.mps.is_available():\n",
    "    device = torch.device('mps')\n",
    "\n",
    "# Else use cpu\n",
    "else:\n",
    "    device = torch.device('cpu')\n",
    "\n",
    "print(\"Device in use: \", device)"
   ]
  },
  {
   "cell_type": "code",
   "execution_count": 29,
   "metadata": {},
   "outputs": [
    {
     "name": "stdout",
     "output_type": "stream",
     "text": [
      "Epoch: 1/30 Loss: 0.06018\n",
      "Epoch: 2/30 Loss: 0.06170\n",
      "Epoch: 3/30 Loss: 0.05950\n",
      "Epoch: 4/30 Loss: 0.06060\n",
      "Epoch: 5/30 Loss: 0.05958\n",
      "Epoch: 6/30 Loss: 0.06148\n",
      "Epoch: 7/30 Loss: 0.05642\n",
      "Epoch: 8/30 Loss: 0.05425\n",
      "Epoch: 9/30 Loss: 0.05090\n",
      "Epoch: 10/30 Loss: 0.04823\n",
      "Epoch: 11/30 Loss: 0.04689\n",
      "Epoch: 12/30 Loss: 0.04165\n",
      "Epoch: 13/30 Loss: 0.04482\n",
      "Epoch: 14/30 Loss: 0.04253\n",
      "Epoch: 15/30 Loss: 0.03567\n",
      "Epoch: 16/30 Loss: 0.04409\n",
      "Epoch: 17/30 Loss: 0.03556\n",
      "Epoch: 18/30 Loss: 0.03798\n",
      "Epoch: 19/30 Loss: 0.03793\n",
      "Epoch: 20/30 Loss: 0.03933\n",
      "Epoch: 21/30 Loss: 0.03644\n",
      "Epoch: 22/30 Loss: 0.03336\n",
      "Epoch: 23/30 Loss: 0.03567\n",
      "Epoch: 24/30 Loss: 0.03594\n",
      "Epoch: 25/30 Loss: 0.03620\n",
      "Epoch: 26/30 Loss: 0.03798\n",
      "Epoch: 27/30 Loss: 0.03487\n",
      "Epoch: 28/30 Loss: 0.03350\n",
      "Epoch: 29/30 Loss: 0.03534\n",
      "Epoch: 30/30 Loss: 0.03392\n"
     ]
    }
   ],
   "source": [
    "model = Neural_Procss_Model(device=device)\n",
    "\n",
    "# model.to('cuda')\n",
    "\n",
    "model.train(train_dataloader, num_epochs=30)"
   ]
  },
  {
   "cell_type": "code",
   "execution_count": 69,
   "metadata": {},
   "outputs": [
    {
     "name": "stdout",
     "output_type": "stream",
     "text": [
      "Test Loss: 0.03589645992762174\n"
     ]
    }
   ],
   "source": [
    "model.test(test_dataloader)"
   ]
  },
  {
   "cell_type": "markdown",
   "metadata": {},
   "source": [
    "# Testing the Neural Processes"
   ]
  },
  {
   "cell_type": "code",
   "execution_count": 72,
   "metadata": {},
   "outputs": [
    {
     "data": {
      "image/png": "[encoded data removed]",
      "text/plain": [
       "<Figure size 900x400 with 3 Axes>"
      ]
     },
     "metadata": {},
     "output_type": "display_data"
    },
    {
     "data": {
      "image/png": "[encoded data removed]",
      "text/plain": [
       "<Figure size 900x400 with 3 Axes>"
      ]
     },
     "metadata": {},
     "output_type": "display_data"
    },
    {
     "data": {
      "image/png": "[encoded data removed]",
      "text/plain": [
       "<Figure size 900x400 with 3 Axes>"
      ]
     },
     "metadata": {},
     "output_type": "display_data"
    },
    {
     "data": {
      "image/png": "[encoded data removed]",
      "text/plain": [
       "<Figure size 900x400 with 3 Axes>"
      ]
     },
     "metadata": {},
     "output_type": "display_data"
    },
    {
     "data": {
      "image/png": "[encoded data removed]",
      "text/plain": [
       "<Figure size 900x400 with 3 Axes>"
      ]
     },
     "metadata": {},
     "output_type": "display_data"
    }
   ],
   "source": [
    "for context_pairs, target_pairs in test_dataloader:\n",
    "    context_pairs = context_pairs.to(device)\n",
    "    target_pairs = target_pairs.to(device)\n",
    "\n",
    "    predicted_target_pixel_intensity = model(context_pairs, target_pairs)\n",
    "\n",
    "    for i in range(5):\n",
    "        predicted_pixel = predicted_target_pixel_intensity[i].detach().cpu().numpy()\n",
    "        predicted_image = predicted_pixel.reshape(28,28)\n",
    "\n",
    "        actual_pixel = target_pairs[i][:,2].detach().cpu().numpy()\n",
    "        actual_image = actual_pixel.reshape(28,28)\n",
    "\n",
    "        context_image = np.zeros((28,28))\n",
    "        context_pixel_locations = context_pairs[i][:,:2].detach().cpu().numpy().astype(int) \n",
    "        context_image[context_pixel_locations[:,0], context_pixel_locations[:,1]] = context_pairs[i][:,2].detach().cpu().numpy()\n",
    "\n",
    "        plt.figure(figsize=(9,4))\n",
    "\n",
    "        plt.subplot(1,3,1)\n",
    "        plt.imshow(context_image, cmap='gray')\n",
    "        plt.axis('off')\n",
    "        plt.title('Context Image')\n",
    "        \n",
    "        plt.subplot(1,3,2)\n",
    "        plt.imshow(predicted_image, cmap='gray')\n",
    "        plt.axis('off')\n",
    "        plt.title('Predicted Image')\n",
    "\n",
    "        plt.subplot(1,3,3)\n",
    "        plt.imshow(actual_image, cmap='gray')\n",
    "        plt.axis('off')\n",
    "        plt.title('Actual Image')\n",
    "        \n",
    "        plt.tight_layout()\n",
    "        plt.show()\n",
    "\n",
    "    break\n"
   ]
  }
 ],
 "metadata": {
  "kernelspec": {
   "display_name": "python3.9",
   "language": "python",
   "name": "python3"
  },
  "language_info": {
   "codemirror_mode": {
    "name": "ipython",
    "version": 3
   },
   "file_extension": ".py",
   "mimetype": "text/x-python",
   "name": "python",
   "nbconvert_exporter": "python",
   "pygments_lexer": "ipython3",
   "version": "3.9.18"
  }
 },
 "nbformat": 4,
 "nbformat_minor": 2
}
