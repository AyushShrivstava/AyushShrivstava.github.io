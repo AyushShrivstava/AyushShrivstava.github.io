{
 "cells": [
  {
   "cell_type": "markdown",
   "metadata": {},
   "source": [
    "## Neural Processes\n",
    "\n",
    "This notebook demonstrates the implementation of the Neural Processes. The model is trained to predict the distribution of the target function given a few examples of the function. In this notebook we will attempt to reconstruct an entire image given a few pixels of the image. we will be using the MNIST dataset for this task. The few pixels of the image are the context points and the entire image is the target function.\n",
    "\n",
    "$$Model(\\{x_c, y_c\\}_{c=1}^n, \\{x_t\\}_{t=1}^m) \\rightarrow \\{y_t\\}_{t=1}^m$$ \n",
    "\n",
    "$\\{x_c, y_c\\}_{c=1}^n$ are the context points where $x_i$ are the pixel coordinates and $y_i$ are the pixel intensity values.\n",
    "\n",
    "$\\{x_t\\}_{t=1}^m$ are the target pixel coordinates where we want to predict the pixel intensity values $y_j$.\n",
    "\n",
    "So for our case, the pixel locations $x = (x^1, x^2)$ and the pixel intensity values $y = Img(x^1, x^2)$ or just $I$ denoting intensity for simplicity.\n",
    "\n",
    "$$Model(\\{(x^1_c, x^2_c, I_c)\\}_{c=1}^n, \\{(x^1_t, x^2_t)\\}_{t=1}^m) \\rightarrow \\{I_t\\}_{t=1}^m$$\n",
    "\n",
    "The model is composed of two neural networks: the encoder and the decoder. The encoder takes pixel coordinates and pixel intensitiy value of that coordinate as input and encodes them into a fixed-size representation. The decoder takes the representation and the pixel coordinates and predicts the pixel intensity value of the given coordinate.\n",
    " \n",
    "### Training the model\n",
    "\n",
    "During  model training we will sample a random number of pixel locations from the image and use them as context points. The model is trained to predict the pixel intensity value of the  sampled pixel locations. The model is trained using Mean Squared Error loss."
   ]
  },
  {
   "cell_type": "code",
   "execution_count": 354,
   "metadata": {},
   "outputs": [],
   "source": [
    "import torch\n",
    "import torch.nn as nn\n",
    "import numpy as np\n",
    "import matplotlib.pyplot as plt\n",
    "\n",
    "from torch.utils.data import DataLoader, Dataset\n",
    "\n",
    "from torchvision.datasets import MNIST\n",
    "from torchvision.transforms import ToTensor\n",
    "\n",
    "from torchsummary import summary"
   ]
  },
  {
   "cell_type": "code",
   "execution_count": null,
   "metadata": {},
   "outputs": [],
   "source": [
    "class Neural_Procss_Model(nn.Module):\n",
    "    \"\"\"\n",
    "    Neural Process Model has two parts: encoder and decoder\n",
    "\n",
    "    Encoder takes in the context pairs (X1_c, X2_c, PixelIntensity) and encode them into a latent representation\n",
    "\n",
    "    Decoder takes in the latent representation and the target pairs (X1_t, X2_t) and output the predicted target pairs\n",
    "    \"\"\"\n",
    "    def __init__(self):\n",
    "        super(Neural_Procss_Model, self).__init__()\n",
    "\n",
    "        # Encoder takes in the context pairs (X1c,X2c,PixelIntensity) and encode them into a latent representation\n",
    "        self.encoder = nn.Sequential(\n",
    "            nn.Linear(3,64),\n",
    "            nn.ReLU(),\n",
    "            nn.Linear(64,128),\n",
    "            nn.ReLU(),\n",
    "            nn.Linear(128,256),\n",
    "        )\n",
    "\n",
    "        # Decoder takes in the latent representation and the target pairs and output the predicted target pairs\n",
    "        self.decoder = nn.Sequential(\n",
    "            nn.Linear(256+2,128),\n",
    "            nn.ReLU(),\n",
    "            nn.Linear(128,64),\n",
    "            nn.ReLU(),\n",
    "            nn.Linear(64,32),\n",
    "            nn.ReLU(),\n",
    "            nn.Linear(32,1)\n",
    "        )\n",
    "\n",
    "    def forward(self, context_pairs, target_pairs):\n",
    "        \"\"\"\n",
    "        Forward pass of the Neural Process Model. \n",
    "        \n",
    "        It takes in the context cordinate pairs (X1_c, X2_c, PixelIntensity) and target cordinate pairs (X1_t, X2_t, PixelIntensity) and output the predicted target pixel intensity for the target cordinate pairs\n",
    "\n",
    "        Parameters:\n",
    "        context_pairs: torch.Tensor of shape (batch_size, num_context_pairs, 3)\n",
    "        target_pairs: torch.Tensor of shape (batch_size, num_target_pairs, 2)\n",
    "\n",
    "        Returns:\n",
    "        predicted_target_Pixel Intensity: torch.Tensor of shape (batch_size, num_target_pairs, 1)\n",
    "        \"\"\"\n",
    "        \n",
    "        # Encode the context pairs into a latent representation\n",
    "        latent_representation = self.encoder(context_pairs)\n",
    "\n",
    "        # Average the latent representation\n",
    "        latent_representation = torch.mean(latent_representation,dim=1)\n",
    "\n",
    "        # Repeat the latent representation for each target pair\n",
    "        latent_representation = latent_representation.unsqueeze(1).repeat(1,target_pairs.size(1),1)\n",
    "\n",
    "        # Concatenate the latent representation with the target pixel locations\n",
    "        target_pixel_locations = target_pairs[:,:,:2]\n",
    "        target = torch.cat([latent_representation,target_pixel_locations],dim=-1)\n",
    "\n",
    "        # Decode the target pairs to obtain the predicted target pixel intensity\n",
    "        predicted_target_pixel_intensity = self.decoder(target)\n",
    "\n",
    "        return predicted_target_pixel_intensity\n",
    "    \n",
    "\n",
    "    def train(self, train_dataloader, num_epochs=100, optim = torch.optim.Adam, lr=3e-4, criterion = nn.MSELoss(),verbose=True,device='cuda'):\n",
    "        \"\"\"\n",
    "        Train the Neural Process Model\n",
    "\n",
    "        Parameters:\n",
    "        train_dataloader: DataLoader object for the training data\n",
    "        num_epochs: int, number of epochs to train the model\n",
    "        optimer: str, optimer to use for training the model\n",
    "        lr: float, learning rate for the optimer\n",
    "        criterion: loss function to use for training the model\n",
    "        \"\"\"\n",
    "\n",
    "        # Move the model to the device\n",
    "        self.to(device)\n",
    "\n",
    "        # Initialize the optimizer\n",
    "        optimizer = optim(self.parameters(), lr=lr)\n",
    "\n",
    "        for epoch in range(num_epochs):\n",
    "            for i, (context_pairs, target_pairs) in enumerate(train_dataloader):\n",
    "                context_pairs = context_pairs.to(device)\n",
    "                target_pairs = target_pairs.to(device)\n",
    "\n",
    "                # print(context_pairs.shape, target_pairs.shape)\n",
    "\n",
    "                # Zero the gradients\n",
    "                optimizer.zero_grad()\n",
    "\n",
    "                # Forward pass\n",
    "                predicted_target_pixel_intensity = self(context_pairs, target_pairs)\n",
    "\n",
    "                # Calculate the loss\n",
    "                loss = criterion(predicted_target_pixel_intensity.reshape(-1,1), target_pairs[:,:,2].reshape(-1,1))\n",
    "\n",
    "                # Backward pass\n",
    "                loss.backward()\n",
    "\n",
    "                # Update the weights\n",
    "                optimizer.step()\n",
    "\n",
    "            if verbose:\n",
    "                print(\"Epoch: {}/{} Loss: {:.5f}\".format(epoch+1,num_epochs,loss.item()))\n",
    "\n",
    "\n",
    "\n",
    "    def test(self, test_dataloader, criterion = nn.MSELoss(),device='cuda'):\n",
    "        \"\"\"\n",
    "        Test the Neural Process Model\n",
    "\n",
    "        Parameters:\n",
    "        test_dataloader: DataLoader object for the test data\n",
    "        \"\"\"\n",
    "    \n",
    "        # Move the model to the device\n",
    "        self.to(device)\n",
    "\n",
    "        # Initialize the loss\n",
    "        test_loss = 0\n",
    "\n",
    "        with torch.no_grad():\n",
    "            for i, (context_pairs, target_pairs) in enumerate(test_dataloader):\n",
    "                context_pairs = context_pairs.to(device)\n",
    "                target_pairs = target_pairs.to(device)\n",
    "\n",
    "                # Forward pass\n",
    "                predicted_target_pixel_intensity = self(context_pairs, target_pairs)\n",
    "\n",
    "                # Calculate the loss\n",
    "                loss = criterion(predicted_target_pixel_intensity.reshape(-1,1), target_pairs[:,:,2].reshape(-1,1))\n",
    "\n",
    "                test_loss += loss.item()\n",
    "\n",
    "        print(f'Test Loss: {test_loss/len(test_dataloader)}')\n",
    "\n",
    "        "
   ]
  },
  {
   "cell_type": "markdown",
   "metadata": {},
   "source": [
    "### Generating Trainset for the Problem"
   ]
  },
  {
   "cell_type": "code",
   "execution_count": 347,
   "metadata": {},
   "outputs": [
    {
     "name": "stdout",
     "output_type": "stream",
     "text": [
      "torch.Size([32, 200, 3]) torch.Size([32, 200, 3])\n"
     ]
    }
   ],
   "source": [
    "train_data = MNIST(root='./data', train=True, download=True, transform=ToTensor())\n",
    "\n",
    "no_context_points = 200\n",
    "All_corrdinates = np.array([(i,j) for i in range(28) for j in range(28)])\n",
    "\n",
    "train_set = []\n",
    "for i in range(len(train_data)):\n",
    "    image, _ = train_data[i]\n",
    "    image = image.squeeze().numpy()\n",
    "\n",
    "    train_idx = np.random.choice(range(len(All_corrdinates)), no_context_points, replace=False)\n",
    "\n",
    "    context_points = All_corrdinates[train_idx]\n",
    "    context_pixels = image[context_points[:,0], context_points[:,1]]\n",
    "\n",
    "    context_set = np.concatenate([context_points, context_pixels.reshape(-1,1)], axis=-1).astype(np.float32)\n",
    "\n",
    "    target_set = context_set.copy()\n",
    "\n",
    "    train_set.append((context_set, target_set))\n",
    "\n",
    "\n",
    "train_dataloader = DataLoader(train_set, batch_size=32, shuffle=True)\n",
    "\n",
    "for context_pairs, target_pairs in train_dataloader:\n",
    "    print(context_pairs.shape, target_pairs.shape)\n",
    "    break"
   ]
  },
  {
   "cell_type": "markdown",
   "metadata": {},
   "source": [
    "### Generating testset for the problem"
   ]
  },
  {
   "cell_type": "code",
   "execution_count": 348,
   "metadata": {},
   "outputs": [
    {
     "name": "stdout",
     "output_type": "stream",
     "text": [
      "torch.Size([32, 200, 3]) torch.Size([32, 784, 3])\n"
     ]
    }
   ],
   "source": [
    "test_data = MNIST(root='./data', train=False, download=True, transform= ToTensor())\n",
    "\n",
    "no_context_points = 200\n",
    "test_set = []\n",
    "for i in range(len(test_data)):\n",
    "    image, _ = test_data[i]\n",
    "    image = image.squeeze().numpy()\n",
    "\n",
    "    test_idx = np.random.choice(range(len(All_corrdinates)), no_context_points, replace=False)\n",
    "\n",
    "    context_points = All_corrdinates[test_idx]\n",
    "    context_pixels = image[context_points[:,0], context_points[:,1]]\n",
    "\n",
    "    context_set = np.concatenate([context_points, context_pixels.reshape(-1,1)], axis=-1).astype(np.float32)\n",
    "\n",
    "    target_points = np.array([(i,j) for i in range(28) for j in range(28)])\n",
    "    target_pixels = image[target_points[:,0], target_points[:,1]]\n",
    "\n",
    "    target_set = np.concatenate([target_points, target_pixels.reshape(-1,1)], axis=-1).astype(np.float32)\n",
    "\n",
    "    test_set.append((context_set, target_set))\n",
    "\n",
    "test_dataloader = DataLoader(test_set, batch_size=32, shuffle=True)\n",
    "\n",
    "for context_pairs, target_pairs in test_dataloader:\n",
    "    print(context_pairs.shape, target_pairs.shape)\n",
    "    break"
   ]
  },
  {
   "cell_type": "markdown",
   "metadata": {},
   "source": [
    "### Training the model"
   ]
  },
  {
   "cell_type": "code",
   "execution_count": 349,
   "metadata": {},
   "outputs": [
    {
     "name": "stdout",
     "output_type": "stream",
     "text": [
      "Epoch: 1/30 Loss: 0.06666\n",
      "Epoch: 2/30 Loss: 0.06497\n",
      "Epoch: 3/30 Loss: 0.06212\n",
      "Epoch: 4/30 Loss: 0.06163\n",
      "Epoch: 5/30 Loss: 0.05931\n",
      "Epoch: 6/30 Loss: 0.05229\n",
      "Epoch: 7/30 Loss: 0.04560\n",
      "Epoch: 8/30 Loss: 0.04370\n",
      "Epoch: 9/30 Loss: 0.04431\n",
      "Epoch: 10/30 Loss: 0.04166\n",
      "Epoch: 11/30 Loss: 0.04205\n",
      "Epoch: 12/30 Loss: 0.03904\n",
      "Epoch: 13/30 Loss: 0.03821\n",
      "Epoch: 14/30 Loss: 0.04091\n",
      "Epoch: 15/30 Loss: 0.03898\n",
      "Epoch: 16/30 Loss: 0.03534\n",
      "Epoch: 17/30 Loss: 0.04038\n",
      "Epoch: 18/30 Loss: 0.03608\n",
      "Epoch: 19/30 Loss: 0.03051\n",
      "Epoch: 20/30 Loss: 0.03762\n",
      "Epoch: 21/30 Loss: 0.03269\n",
      "Epoch: 22/30 Loss: 0.02833\n",
      "Epoch: 23/30 Loss: 0.02647\n",
      "Epoch: 24/30 Loss: 0.03339\n",
      "Epoch: 25/30 Loss: 0.02954\n",
      "Epoch: 26/30 Loss: 0.03007\n",
      "Epoch: 27/30 Loss: 0.02750\n",
      "Epoch: 28/30 Loss: 0.02566\n",
      "Epoch: 29/30 Loss: 0.02912\n",
      "Epoch: 30/30 Loss: 0.03134\n"
     ]
    }
   ],
   "source": [
    "model = Neural_Procss_Model()\n",
    "\n",
    "model.to('cuda')\n",
    "\n",
    "model.train(train_dataloader, num_epochs=30)"
   ]
  },
  {
   "cell_type": "code",
   "execution_count": 352,
   "metadata": {},
   "outputs": [
    {
     "name": "stdout",
     "output_type": "stream",
     "text": [
      "Test Loss: 0.034481238389310366\n"
     ]
    }
   ],
   "source": [
    "model.test(test_dataloader)"
   ]
  },
  {
   "cell_type": "code",
   "execution_count": 353,
   "metadata": {},
   "outputs": [
    {
     "data": {
      "image/png": "[encoded data removed]",
      "text/plain": [
       "<Figure size 900x400 with 3 Axes>"
      ]
     },
     "metadata": {},
     "output_type": "display_data"
    },
    {
     "data": {
      "image/png": "[encoded data removed]",
      "text/plain": [
       "<Figure size 900x400 with 3 Axes>"
      ]
     },
     "metadata": {},
     "output_type": "display_data"
    },
    {
     "data": {
      "image/png": "[encoded data removed]",
      "text/plain": [
       "<Figure size 900x400 with 3 Axes>"
      ]
     },
     "metadata": {},
     "output_type": "display_data"
    },
    {
     "data": {
      "image/png": "[encoded data removed]",
      "text/plain": [
       "<Figure size 900x400 with 3 Axes>"
      ]
     },
     "metadata": {},
     "output_type": "display_data"
    },
    {
     "data": {
      "image/png": "[encoded data removed]",
      "text/plain": [
       "<Figure size 900x400 with 3 Axes>"
      ]
     },
     "metadata": {},
     "output_type": "display_data"
    }
   ],
   "source": [
    "for context_pairs, target_pairs in test_dataloader:\n",
    "    context_pairs = context_pairs.to('cuda')\n",
    "    target_pairs = target_pairs.to('cuda')\n",
    "\n",
    "    predicted_target_pixel_intensity = model(context_pairs, target_pairs)\n",
    "\n",
    "    for i in range(5):\n",
    "        predicted_pixel = predicted_target_pixel_intensity[i].detach().cpu().numpy()\n",
    "        predicted_image = predicted_pixel.reshape(28,28)\n",
    "\n",
    "        actual_pixel = target_pairs[i][:,2].detach().cpu().numpy()\n",
    "        actual_image = actual_pixel.reshape(28,28)\n",
    "\n",
    "        context_image = np.zeros((28,28))\n",
    "        context_pixel_locations = context_pairs[i][:,:2].detach().cpu().numpy().astype(int) \n",
    "        context_image[context_pixel_locations[:,0], context_pixel_locations[:,1]] = context_pairs[i][:,2].detach().cpu().numpy()\n",
    "\n",
    "        plt.figure(figsize=(9,4))\n",
    "\n",
    "        plt.subplot(1,3,1)\n",
    "        plt.imshow(context_image, cmap='gray')\n",
    "        plt.axis('off')\n",
    "        plt.title('Context Image')\n",
    "        \n",
    "        plt.subplot(1,3,2)\n",
    "        plt.imshow(predicted_image, cmap='gray')\n",
    "        plt.axis('off')\n",
    "        plt.title('Predicted Image')\n",
    "\n",
    "        plt.subplot(1,3,3)\n",
    "        plt.imshow(actual_image, cmap='gray')\n",
    "        plt.axis('off')\n",
    "        plt.title('Actual Image')\n",
    "        \n",
    "        plt.tight_layout()\n",
    "        plt.show()\n",
    "\n",
    "    break\n"
   ]
  },
  {
   "cell_type": "code",
   "execution_count": null,
   "metadata": {},
   "outputs": [],
   "source": []
  }
 ],
 "metadata": {
  "kernelspec": {
   "display_name": "Ayush2",
   "language": "python",
   "name": "python3"
  },
  "language_info": {
   "codemirror_mode": {
    "name": "ipython",
    "version": 3
   },
   "file_extension": ".py",
   "mimetype": "text/x-python",
   "name": "python",
   "nbconvert_exporter": "python",
   "pygments_lexer": "ipython3",
   "version": "3.9.19"
  }
 },
 "nbformat": 4,
 "nbformat_minor": 2
}
